{
 "cells": [
  {
   "cell_type": "code",
   "execution_count": 1,
   "outputs": [
    {
     "name": "stdout",
     "output_type": "stream",
     "text": [
      "/home/cory/PycharmProjects/bachelor_2022/artifact\n"
     ]
    }
   ],
   "source": [
    "import os\n",
    "\n",
    "# Change work directory to /artifact\n",
    "os.chdir('..')\n",
    "print(os.getcwd())"
   ],
   "metadata": {
    "collapsed": false,
    "pycharm": {
     "name": "#%%\n"
    }
   }
  },
  {
   "cell_type": "code",
   "execution_count": 2,
   "outputs": [
    {
     "name": "stdout",
     "output_type": "stream",
     "text": [
      "data/recommender-dataset\n"
     ]
    }
   ],
   "source": [
    "DATA_DIR = 'recommender-dataset'\n",
    "\n",
    "# Directory where MovieLens 100K rating data lives\n",
    "DATA_ROOT = os.path.join('data', DATA_DIR)\n",
    "print(DATA_ROOT)"
   ],
   "metadata": {
    "collapsed": false,
    "pycharm": {
     "name": "#%%\n"
    }
   }
  },
  {
   "cell_type": "code",
   "execution_count": 3,
   "outputs": [],
   "source": [
    "# Specify which dataset should be fetched\n",
    "dataset = 'ml-100k'"
   ],
   "metadata": {
    "collapsed": false,
    "pycharm": {
     "name": "#%%\n"
    }
   }
  },
  {
   "cell_type": "code",
   "execution_count": 15,
   "outputs": [
    {
     "name": "stdout",
     "output_type": "stream",
     "text": [
      "^C\r\n",
      "sed: can't read ml-100k/u.data: No such file or directory\r\n",
      "--2022-07-10 15:17:28--  https://files.grouplens.org/datasets/movielens/ml-100k.zip\r\n",
      "Resolving files.grouplens.org (files.grouplens.org)... 128.101.65.152\r\n",
      "Connecting to files.grouplens.org (files.grouplens.org)|128.101.65.152|:443... connected.\r\n",
      "HTTP request sent, awaiting response... 200 OK\r\n",
      "Length: 4924029 (4.7M) [application/zip]\r\n",
      "Saving to: ‘ml-100k.zip’\r\n",
      "\r\n",
      "ml-100k.zip         100%[===================>]   4.70M  4.84MB/s    in 1.0s    \r\n",
      "\r\n",
      "2022-07-10 15:17:29 (4.84 MB/s) - ‘ml-100k.zip’ saved [4924029/4924029]\r\n",
      "\r\n",
      "Archive:  ml-100k.zip\r\n",
      "   creating: ml-100k/\r\n",
      "  inflating: ml-100k/allbut.pl       \r\n",
      "  inflating: ml-100k/mku.sh          \r\n",
      "  inflating: ml-100k/README          \r\n",
      "  inflating: ml-100k/u.data          \r\n",
      "  inflating: ml-100k/u.genre         \r\n",
      "  inflating: ml-100k/u.info          \r\n",
      "  inflating: ml-100k/u.item          \r\n",
      "  inflating: ml-100k/u.occupation    \r\n",
      "  inflating: ml-100k/u.user          \r\n",
      "  inflating: ml-100k/u1.base         \r\n",
      "  inflating: ml-100k/u1.test         \r\n",
      "  inflating: ml-100k/u2.base         \r\n",
      "  inflating: ml-100k/u2.test         \r\n",
      "  inflating: ml-100k/u3.base         \r\n",
      "  inflating: ml-100k/u3.test         \r\n",
      "  inflating: ml-100k/u4.base         \r\n",
      "  inflating: ml-100k/u4.test         \r\n",
      "  inflating: ml-100k/u5.base         \r\n",
      "  inflating: ml-100k/u5.test         \r\n",
      "  inflating: ml-100k/ua.base         \r\n",
      "  inflating: ml-100k/ua.test         \r\n",
      "  inflating: ml-100k/ub.base         \r\n",
      "  inflating: ml-100k/ub.test         \r\n"
     ]
    }
   ],
   "source": [
    "!wget https://files.grouplens.org/datasets/movielens/{dataset}.zip\n",
    "!mkdir -p {DATA_ROOT}\n",
    "!unzip {dataset}.zip\n",
    "!echo 'userId,movieId,rating,timestamp' > {DATA_ROOT}/{dataset}.csv\n",
    "!sed 's/\\t/,/g' {dataset}/u.data >> {DATA_ROOT}/{dataset}.csv"
   ],
   "metadata": {
    "collapsed": false,
    "pycharm": {
     "name": "#%%\n"
    }
   }
  },
  {
   "cell_type": "code",
   "execution_count": null,
   "outputs": [],
   "source": [
    "os.remove(dataset + \".zip\")"
   ],
   "metadata": {
    "collapsed": false,
    "pycharm": {
     "name": "#%%\n"
    }
   }
  }
 ],
 "metadata": {
  "kernelspec": {
   "display_name": "Python 3",
   "language": "python",
   "name": "python3"
  },
  "language_info": {
   "codemirror_mode": {
    "name": "ipython",
    "version": 2
   },
   "file_extension": ".py",
   "mimetype": "text/x-python",
   "name": "python",
   "nbconvert_exporter": "python",
   "pygments_lexer": "ipython2",
   "version": "2.7.6"
  }
 },
 "nbformat": 4,
 "nbformat_minor": 0
}