{
 "cells": [
  {
   "cell_type": "code",
   "execution_count": 1,
   "outputs": [
    {
     "name": "stdout",
     "output_type": "stream",
     "text": [
      "/home/cory/PycharmProjects/bachelor_2022/artifact/data_fetch\n",
      "/home/cory/PycharmProjects/bachelor_2022/artifact/data/downloads\n"
     ]
    }
   ],
   "source": [
    "import os\n",
    "import pandas as pd\n",
    "\n",
    "\n",
    "# Change work directory to /artifact\n",
    "print(os.getcwd())\n",
    "os.chdir(\"../data/downloads\")\n",
    "print(os.getcwd())"
   ],
   "metadata": {
    "collapsed": false,
    "pycharm": {
     "name": "#%%\n"
    }
   }
  },
  {
   "cell_type": "code",
   "execution_count": 3,
   "outputs": [],
   "source": [
    "ds_name = 'ml-100k'\n",
    "!wget https://files.grouplens.org/datasets/movielens/{ds_name}.zip\n",
    "!unzip {ds_name}.zip\n",
    "!rm {ds_name}.zip"
   ],
   "metadata": {
    "collapsed": false,
    "pycharm": {
     "name": "#%%\n"
    }
   }
  },
  {
   "cell_type": "code",
   "execution_count": 4,
   "outputs": [
    {
     "name": "stdout",
     "output_type": "stream",
     "text": [
      "       user_id  movie_id  rating  timestamp\n",
      "29135      266       275       5  892257831\n",
      "     user_id  raw_user_age user_gender user_occupation_text user_zip_code\n",
      "586      587            26           M                other         14216\n"
     ]
    },
    {
     "data": {
      "text/plain": "     movie_id            movie_name release_date\n201       202  Groundhog Day (1993)  01-Jan-1993",
      "text/html": "<div>\n<style scoped>\n    .dataframe tbody tr th:only-of-type {\n        vertical-align: middle;\n    }\n\n    .dataframe tbody tr th {\n        vertical-align: top;\n    }\n\n    .dataframe thead th {\n        text-align: right;\n    }\n</style>\n<table border=\"1\" class=\"dataframe\">\n  <thead>\n    <tr style=\"text-align: right;\">\n      <th></th>\n      <th>movie_id</th>\n      <th>movie_name</th>\n      <th>release_date</th>\n    </tr>\n  </thead>\n  <tbody>\n    <tr>\n      <th>201</th>\n      <td>202</td>\n      <td>Groundhog Day (1993)</td>\n      <td>01-Jan-1993</td>\n    </tr>\n  </tbody>\n</table>\n</div>"
     },
     "execution_count": 4,
     "metadata": {},
     "output_type": "execute_result"
    }
   ],
   "source": [
    "# Instantiate all needed dataframes from download files\n",
    "\n",
    "# Instantiate DF of user-movie rating\n",
    "data_cols = ['user_id', 'movie_id', 'rating', 'timestamp']\n",
    "data_df = pd.read_csv(f'{ds_name}/u.data', sep='\\t', names=data_cols)\n",
    "print(data_df.sample(1))\n",
    "\n",
    "# Instantiate DF of user demography\n",
    "user_cols = ['user_id', 'raw_user_age', 'user_gender', 'user_occupation_text', 'user_zip_code']\n",
    "user_df = pd.read_csv(f'{ds_name}/u.user', sep='|', names=user_cols)\n",
    "print(user_df.sample(1))\n",
    "\n",
    "movie_cols = ['movie_id', 'movie_name', 'release_date', ' ','link', 'genre1', 'genre2', 'genre3', 'genre4', 'genre5', 'genre6', 'genre7', 'genre8', 'genre9', 'genre10', 'genre11', 'genre12', 'genre13', 'genre14', 'genre15', 'genre16', 'genre17', 'genre18', 'genre19', 'genre20']\n",
    "movie_df = pd.read_csv(f'{ds_name}/u.item', sep='|', names=movie_cols, encoding = \"ISO-8859-1\")\n",
    "# keep columns movie_id, movie_name, release_date\n",
    "movie_df = movie_df.iloc[:, :3]\n",
    "movie_df.sample(1)"
   ],
   "metadata": {
    "collapsed": false,
    "pycharm": {
     "name": "#%%\n"
    }
   }
  },
  {
   "cell_type": "code",
   "execution_count": null,
   "outputs": [],
   "source": [
    "# Merge individual dfs into one\n",
    "\n",
    "# Augment data_df with user_df\n",
    "df = data_df.merge(user_df, on='user_id')\n",
    "# Augment df with movie_df\n",
    "df = df.merge(movie_df, on='movie_id')\n",
    "df"
   ],
   "metadata": {
    "collapsed": false,
    "pycharm": {
     "name": "#%%\n"
    }
   }
  },
  {
   "cell_type": "code",
   "execution_count": null,
   "outputs": [],
   "source": [
    "# Simple data augmentation\n",
    "\n",
    "# Bucketize user age (as seen in tfds)\n",
    "def bucketizer(age):\n",
    "    if age < 18:\n",
    "        return 1\n",
    "    elif age >= 18 and age < 25:\n",
    "        return 18\n",
    "    elif age >= 25 and age < 35:\n",
    "        return 25\n",
    "    elif age >= 35 and age < 45:\n",
    "        return 35\n",
    "    elif age >= 45 and age < 50:\n",
    "        return 45\n",
    "    elif age >= 50 and age < 55:\n",
    "        return 50\n",
    "    else:\n",
    "        return 56\n",
    "\n",
    "df['bucketized_user_age'] = df['raw_user_age'].apply(bucketizer)\n",
    "\n",
    "# Convert gender to bool value\n",
    "df['bool_user_gender'] = df['user_gender'].map({'M': True, 'F': False})\n",
    "df\n",
    "\n",
    "# Extract year as int from release date\n",
    "# def year_extractor(date):\n",
    "#     return date.split('-')[2]\n",
    "#\n",
    "# df['release_year'] = df['release_date'].apply(year_extractor)\n",
    "# df"
   ],
   "metadata": {
    "collapsed": false,
    "pycharm": {
     "name": "#%%\n"
    }
   }
  },
  {
   "cell_type": "code",
   "execution_count": null,
   "outputs": [],
   "source": [
    "os.chdir(\"../recommender-dataset/\")\n",
    "df.to_csv(f\"{ds_name}_augmented.csv\", index=False)"
   ],
   "metadata": {
    "collapsed": false,
    "pycharm": {
     "name": "#%%\n"
    }
   }
  }
 ],
 "metadata": {
  "kernelspec": {
   "display_name": "Python 3",
   "language": "python",
   "name": "python3"
  },
  "language_info": {
   "codemirror_mode": {
    "name": "ipython",
    "version": 2
   },
   "file_extension": ".py",
   "mimetype": "text/x-python",
   "name": "python",
   "nbconvert_exporter": "python",
   "pygments_lexer": "ipython2",
   "version": "2.7.6"
  }
 },
 "nbformat": 4,
 "nbformat_minor": 0
}