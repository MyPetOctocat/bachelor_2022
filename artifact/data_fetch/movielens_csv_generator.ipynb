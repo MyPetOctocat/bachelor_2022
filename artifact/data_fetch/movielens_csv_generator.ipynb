{
 "cells": [
  {
   "cell_type": "code",
   "execution_count": 1,
   "outputs": [
    {
     "name": "stdout",
     "output_type": "stream",
     "text": [
      "/home/cory/PycharmProjects/bachelor_2022/artifact/data_fetch\n",
      "/home/cory/PycharmProjects/bachelor_2022/artifact/data/downloads\n"
     ]
    }
   ],
   "source": [
    "import os\n",
    "import pandas as pd\n",
    "\n",
    "\n",
    "# Change work directory to /artifact\n",
    "print(os.getcwd())\n",
    "os.chdir(\"../data/downloads\")\n",
    "print(os.getcwd())"
   ],
   "metadata": {
    "collapsed": false,
    "pycharm": {
     "name": "#%%\n"
    }
   }
  },
  {
   "cell_type": "code",
   "execution_count": 2,
   "outputs": [
    {
     "name": "stdout",
     "output_type": "stream",
     "text": [
      "--2022-07-15 00:51:34--  https://files.grouplens.org/datasets/movielens/ml-100k.zip\r\n",
      "Resolving files.grouplens.org (files.grouplens.org)... 128.101.65.152\r\n",
      "Connecting to files.grouplens.org (files.grouplens.org)|128.101.65.152|:443... connected.\r\n",
      "HTTP request sent, awaiting response... 200 OK\r\n",
      "Length: 4924029 (4.7M) [application/zip]\r\n",
      "Saving to: ‘ml-100k.zip’\r\n",
      "\r\n",
      "ml-100k.zip         100%[===================>]   4.70M  4.86MB/s    in 1.0s    \r\n",
      "\r\n",
      "2022-07-15 00:51:36 (4.86 MB/s) - ‘ml-100k.zip’ saved [4924029/4924029]\r\n",
      "\r\n",
      "Archive:  ml-100k.zip\r\n",
      "   creating: ml-100k/\r\n",
      "  inflating: ml-100k/allbut.pl       \r\n",
      "  inflating: ml-100k/mku.sh          \r\n",
      "  inflating: ml-100k/README          \r\n",
      "  inflating: ml-100k/u.data          \r\n",
      "  inflating: ml-100k/u.genre         \r\n",
      "  inflating: ml-100k/u.info          \r\n",
      "  inflating: ml-100k/u.item          \r\n",
      "  inflating: ml-100k/u.occupation    \r\n",
      "  inflating: ml-100k/u.user          \r\n",
      "  inflating: ml-100k/u1.base         \r\n",
      "  inflating: ml-100k/u1.test         \r\n",
      "  inflating: ml-100k/u2.base         \r\n",
      "  inflating: ml-100k/u2.test         \r\n",
      "  inflating: ml-100k/u3.base         \r\n",
      "  inflating: ml-100k/u3.test         \r\n",
      "  inflating: ml-100k/u4.base         \r\n",
      "  inflating: ml-100k/u4.test         \r\n",
      "  inflating: ml-100k/u5.base         \r\n",
      "  inflating: ml-100k/u5.test         \r\n",
      "  inflating: ml-100k/ua.base         \r\n",
      "  inflating: ml-100k/ua.test         \r\n",
      "  inflating: ml-100k/ub.base         \r\n",
      "  inflating: ml-100k/ub.test         \r\n"
     ]
    }
   ],
   "source": [
    "ds_name = 'ml-100k'\n",
    "!wget https://files.grouplens.org/datasets/movielens/{ds_name}.zip\n",
    "!unzip {ds_name}.zip\n",
    "!rm {ds_name}.zip"
   ],
   "metadata": {
    "collapsed": false,
    "pycharm": {
     "name": "#%%\n"
    }
   }
  },
  {
   "cell_type": "code",
   "execution_count": 3,
   "outputs": [
    {
     "name": "stdout",
     "output_type": "stream",
     "text": [
      "       user_id  movie_id  user_rating  timestamp\n",
      "40664      655       162            3  888474165\n",
      "     user_id  raw_user_age user_gender user_occupation_text user_zip_code\n",
      "387      388            31           M                other         36106\n"
     ]
    },
    {
     "data": {
      "text/plain": "      movie_id       movie_name release_date\n1326      1327  Captives (1994)  16-Sep-1994",
      "text/html": "<div>\n<style scoped>\n    .dataframe tbody tr th:only-of-type {\n        vertical-align: middle;\n    }\n\n    .dataframe tbody tr th {\n        vertical-align: top;\n    }\n\n    .dataframe thead th {\n        text-align: right;\n    }\n</style>\n<table border=\"1\" class=\"dataframe\">\n  <thead>\n    <tr style=\"text-align: right;\">\n      <th></th>\n      <th>movie_id</th>\n      <th>movie_name</th>\n      <th>release_date</th>\n    </tr>\n  </thead>\n  <tbody>\n    <tr>\n      <th>1326</th>\n      <td>1327</td>\n      <td>Captives (1994)</td>\n      <td>16-Sep-1994</td>\n    </tr>\n  </tbody>\n</table>\n</div>"
     },
     "execution_count": 3,
     "metadata": {},
     "output_type": "execute_result"
    }
   ],
   "source": [
    "# Instantiate all needed dataframes from download files\n",
    "\n",
    "# Instantiate DF of user-movie rating\n",
    "data_cols = ['user_id', 'movie_id', 'user_rating', 'timestamp']\n",
    "data_df = pd.read_csv(f'{ds_name}/u.data', sep='\\t', names=data_cols)\n",
    "print(data_df.sample(1))\n",
    "\n",
    "# Instantiate DF of user demography\n",
    "user_cols = ['user_id', 'raw_user_age', 'user_gender', 'user_occupation_text', 'user_zip_code']\n",
    "user_df = pd.read_csv(f'{ds_name}/u.user', sep='|', names=user_cols)\n",
    "print(user_df.sample(1))\n",
    "\n",
    "movie_cols = ['movie_id', 'movie_name', 'release_date', ' ','link', 'genre1', 'genre2', 'genre3', 'genre4', 'genre5', 'genre6', 'genre7', 'genre8', 'genre9', 'genre10', 'genre11', 'genre12', 'genre13', 'genre14', 'genre15', 'genre16', 'genre17', 'genre18', 'genre19', 'genre20']\n",
    "movie_df = pd.read_csv(f'{ds_name}/u.item', sep='|', names=movie_cols, encoding = \"ISO-8859-1\")\n",
    "# keep columns movie_id, movie_name, release_date\n",
    "movie_df = movie_df.iloc[:, :3]\n",
    "movie_df.sample(1)"
   ],
   "metadata": {
    "collapsed": false,
    "pycharm": {
     "name": "#%%\n"
    }
   }
  },
  {
   "cell_type": "code",
   "execution_count": 4,
   "outputs": [
    {
     "data": {
      "text/plain": "       user_id  movie_id  user_rating  timestamp  raw_user_age user_gender  \\\n0          196       242            3  881250949            49           M   \n1          305       242            5  886307828            23           M   \n2            6       242            4  883268170            42           M   \n3          234       242            4  891033261            60           M   \n4           63       242            3  875747190            31           M   \n...        ...       ...          ...        ...           ...         ...   \n99995      863      1679            3  889289491            17           M   \n99996      863      1678            1  889289570            17           M   \n99997      863      1680            2  889289570            17           M   \n99998      896      1681            3  887160722            28           M   \n99999      916      1682            3  880845755            27           M   \n\n      user_occupation_text user_zip_code  \\\n0                   writer         55105   \n1               programmer         94086   \n2                executive         98101   \n3                  retired         94702   \n4                marketing         75240   \n...                    ...           ...   \n99995              student         60089   \n99996              student         60089   \n99997              student         60089   \n99998               writer         91505   \n99999             engineer         N2L5N   \n\n                                      movie_name release_date  \n0                                   Kolya (1996)  24-Jan-1997  \n1                                   Kolya (1996)  24-Jan-1997  \n2                                   Kolya (1996)  24-Jan-1997  \n3                                   Kolya (1996)  24-Jan-1997  \n4                                   Kolya (1996)  24-Jan-1997  \n...                                          ...          ...  \n99995                           B. Monkey (1998)  06-Feb-1998  \n99996                          Mat' i syn (1997)  06-Feb-1998  \n99997                       Sliding Doors (1998)  01-Jan-1998  \n99998                        You So Crazy (1994)  01-Jan-1994  \n99999  Scream of Stone (Schrei aus Stein) (1991)  08-Mar-1996  \n\n[100000 rows x 10 columns]",
      "text/html": "<div>\n<style scoped>\n    .dataframe tbody tr th:only-of-type {\n        vertical-align: middle;\n    }\n\n    .dataframe tbody tr th {\n        vertical-align: top;\n    }\n\n    .dataframe thead th {\n        text-align: right;\n    }\n</style>\n<table border=\"1\" class=\"dataframe\">\n  <thead>\n    <tr style=\"text-align: right;\">\n      <th></th>\n      <th>user_id</th>\n      <th>movie_id</th>\n      <th>user_rating</th>\n      <th>timestamp</th>\n      <th>raw_user_age</th>\n      <th>user_gender</th>\n      <th>user_occupation_text</th>\n      <th>user_zip_code</th>\n      <th>movie_name</th>\n      <th>release_date</th>\n    </tr>\n  </thead>\n  <tbody>\n    <tr>\n      <th>0</th>\n      <td>196</td>\n      <td>242</td>\n      <td>3</td>\n      <td>881250949</td>\n      <td>49</td>\n      <td>M</td>\n      <td>writer</td>\n      <td>55105</td>\n      <td>Kolya (1996)</td>\n      <td>24-Jan-1997</td>\n    </tr>\n    <tr>\n      <th>1</th>\n      <td>305</td>\n      <td>242</td>\n      <td>5</td>\n      <td>886307828</td>\n      <td>23</td>\n      <td>M</td>\n      <td>programmer</td>\n      <td>94086</td>\n      <td>Kolya (1996)</td>\n      <td>24-Jan-1997</td>\n    </tr>\n    <tr>\n      <th>2</th>\n      <td>6</td>\n      <td>242</td>\n      <td>4</td>\n      <td>883268170</td>\n      <td>42</td>\n      <td>M</td>\n      <td>executive</td>\n      <td>98101</td>\n      <td>Kolya (1996)</td>\n      <td>24-Jan-1997</td>\n    </tr>\n    <tr>\n      <th>3</th>\n      <td>234</td>\n      <td>242</td>\n      <td>4</td>\n      <td>891033261</td>\n      <td>60</td>\n      <td>M</td>\n      <td>retired</td>\n      <td>94702</td>\n      <td>Kolya (1996)</td>\n      <td>24-Jan-1997</td>\n    </tr>\n    <tr>\n      <th>4</th>\n      <td>63</td>\n      <td>242</td>\n      <td>3</td>\n      <td>875747190</td>\n      <td>31</td>\n      <td>M</td>\n      <td>marketing</td>\n      <td>75240</td>\n      <td>Kolya (1996)</td>\n      <td>24-Jan-1997</td>\n    </tr>\n    <tr>\n      <th>...</th>\n      <td>...</td>\n      <td>...</td>\n      <td>...</td>\n      <td>...</td>\n      <td>...</td>\n      <td>...</td>\n      <td>...</td>\n      <td>...</td>\n      <td>...</td>\n      <td>...</td>\n    </tr>\n    <tr>\n      <th>99995</th>\n      <td>863</td>\n      <td>1679</td>\n      <td>3</td>\n      <td>889289491</td>\n      <td>17</td>\n      <td>M</td>\n      <td>student</td>\n      <td>60089</td>\n      <td>B. Monkey (1998)</td>\n      <td>06-Feb-1998</td>\n    </tr>\n    <tr>\n      <th>99996</th>\n      <td>863</td>\n      <td>1678</td>\n      <td>1</td>\n      <td>889289570</td>\n      <td>17</td>\n      <td>M</td>\n      <td>student</td>\n      <td>60089</td>\n      <td>Mat' i syn (1997)</td>\n      <td>06-Feb-1998</td>\n    </tr>\n    <tr>\n      <th>99997</th>\n      <td>863</td>\n      <td>1680</td>\n      <td>2</td>\n      <td>889289570</td>\n      <td>17</td>\n      <td>M</td>\n      <td>student</td>\n      <td>60089</td>\n      <td>Sliding Doors (1998)</td>\n      <td>01-Jan-1998</td>\n    </tr>\n    <tr>\n      <th>99998</th>\n      <td>896</td>\n      <td>1681</td>\n      <td>3</td>\n      <td>887160722</td>\n      <td>28</td>\n      <td>M</td>\n      <td>writer</td>\n      <td>91505</td>\n      <td>You So Crazy (1994)</td>\n      <td>01-Jan-1994</td>\n    </tr>\n    <tr>\n      <th>99999</th>\n      <td>916</td>\n      <td>1682</td>\n      <td>3</td>\n      <td>880845755</td>\n      <td>27</td>\n      <td>M</td>\n      <td>engineer</td>\n      <td>N2L5N</td>\n      <td>Scream of Stone (Schrei aus Stein) (1991)</td>\n      <td>08-Mar-1996</td>\n    </tr>\n  </tbody>\n</table>\n<p>100000 rows × 10 columns</p>\n</div>"
     },
     "execution_count": 4,
     "metadata": {},
     "output_type": "execute_result"
    }
   ],
   "source": [
    "# Merge individual dfs into one\n",
    "\n",
    "# Augment data_df with user_df\n",
    "df = data_df.merge(user_df, on='user_id')\n",
    "# Augment df with movie_df\n",
    "df = df.merge(movie_df, on='movie_id')\n",
    "df"
   ],
   "metadata": {
    "collapsed": false,
    "pycharm": {
     "name": "#%%\n"
    }
   }
  },
  {
   "cell_type": "code",
   "execution_count": 5,
   "outputs": [
    {
     "data": {
      "text/plain": "       user_id  movie_id  user_rating  timestamp  raw_user_age user_gender  \\\n0          196       242            3  881250949            49           M   \n1          305       242            5  886307828            23           M   \n2            6       242            4  883268170            42           M   \n3          234       242            4  891033261            60           M   \n4           63       242            3  875747190            31           M   \n...        ...       ...          ...        ...           ...         ...   \n99995      863      1679            3  889289491            17           M   \n99996      863      1678            1  889289570            17           M   \n99997      863      1680            2  889289570            17           M   \n99998      896      1681            3  887160722            28           M   \n99999      916      1682            3  880845755            27           M   \n\n      user_occupation_text user_zip_code  \\\n0                   writer         55105   \n1               programmer         94086   \n2                executive         98101   \n3                  retired         94702   \n4                marketing         75240   \n...                    ...           ...   \n99995              student         60089   \n99996              student         60089   \n99997              student         60089   \n99998               writer         91505   \n99999             engineer         N2L5N   \n\n                                      movie_name release_date  \\\n0                                   Kolya (1996)  24-Jan-1997   \n1                                   Kolya (1996)  24-Jan-1997   \n2                                   Kolya (1996)  24-Jan-1997   \n3                                   Kolya (1996)  24-Jan-1997   \n4                                   Kolya (1996)  24-Jan-1997   \n...                                          ...          ...   \n99995                           B. Monkey (1998)  06-Feb-1998   \n99996                          Mat' i syn (1997)  06-Feb-1998   \n99997                       Sliding Doors (1998)  01-Jan-1998   \n99998                        You So Crazy (1994)  01-Jan-1994   \n99999  Scream of Stone (Schrei aus Stein) (1991)  08-Mar-1996   \n\n       bucketized_user_age  bool_user_gender  \n0                       45              True  \n1                       18              True  \n2                       35              True  \n3                       56              True  \n4                       25              True  \n...                    ...               ...  \n99995                    1              True  \n99996                    1              True  \n99997                    1              True  \n99998                   25              True  \n99999                   25              True  \n\n[100000 rows x 12 columns]",
      "text/html": "<div>\n<style scoped>\n    .dataframe tbody tr th:only-of-type {\n        vertical-align: middle;\n    }\n\n    .dataframe tbody tr th {\n        vertical-align: top;\n    }\n\n    .dataframe thead th {\n        text-align: right;\n    }\n</style>\n<table border=\"1\" class=\"dataframe\">\n  <thead>\n    <tr style=\"text-align: right;\">\n      <th></th>\n      <th>user_id</th>\n      <th>movie_id</th>\n      <th>user_rating</th>\n      <th>timestamp</th>\n      <th>raw_user_age</th>\n      <th>user_gender</th>\n      <th>user_occupation_text</th>\n      <th>user_zip_code</th>\n      <th>movie_name</th>\n      <th>release_date</th>\n      <th>bucketized_user_age</th>\n      <th>bool_user_gender</th>\n    </tr>\n  </thead>\n  <tbody>\n    <tr>\n      <th>0</th>\n      <td>196</td>\n      <td>242</td>\n      <td>3</td>\n      <td>881250949</td>\n      <td>49</td>\n      <td>M</td>\n      <td>writer</td>\n      <td>55105</td>\n      <td>Kolya (1996)</td>\n      <td>24-Jan-1997</td>\n      <td>45</td>\n      <td>True</td>\n    </tr>\n    <tr>\n      <th>1</th>\n      <td>305</td>\n      <td>242</td>\n      <td>5</td>\n      <td>886307828</td>\n      <td>23</td>\n      <td>M</td>\n      <td>programmer</td>\n      <td>94086</td>\n      <td>Kolya (1996)</td>\n      <td>24-Jan-1997</td>\n      <td>18</td>\n      <td>True</td>\n    </tr>\n    <tr>\n      <th>2</th>\n      <td>6</td>\n      <td>242</td>\n      <td>4</td>\n      <td>883268170</td>\n      <td>42</td>\n      <td>M</td>\n      <td>executive</td>\n      <td>98101</td>\n      <td>Kolya (1996)</td>\n      <td>24-Jan-1997</td>\n      <td>35</td>\n      <td>True</td>\n    </tr>\n    <tr>\n      <th>3</th>\n      <td>234</td>\n      <td>242</td>\n      <td>4</td>\n      <td>891033261</td>\n      <td>60</td>\n      <td>M</td>\n      <td>retired</td>\n      <td>94702</td>\n      <td>Kolya (1996)</td>\n      <td>24-Jan-1997</td>\n      <td>56</td>\n      <td>True</td>\n    </tr>\n    <tr>\n      <th>4</th>\n      <td>63</td>\n      <td>242</td>\n      <td>3</td>\n      <td>875747190</td>\n      <td>31</td>\n      <td>M</td>\n      <td>marketing</td>\n      <td>75240</td>\n      <td>Kolya (1996)</td>\n      <td>24-Jan-1997</td>\n      <td>25</td>\n      <td>True</td>\n    </tr>\n    <tr>\n      <th>...</th>\n      <td>...</td>\n      <td>...</td>\n      <td>...</td>\n      <td>...</td>\n      <td>...</td>\n      <td>...</td>\n      <td>...</td>\n      <td>...</td>\n      <td>...</td>\n      <td>...</td>\n      <td>...</td>\n      <td>...</td>\n    </tr>\n    <tr>\n      <th>99995</th>\n      <td>863</td>\n      <td>1679</td>\n      <td>3</td>\n      <td>889289491</td>\n      <td>17</td>\n      <td>M</td>\n      <td>student</td>\n      <td>60089</td>\n      <td>B. Monkey (1998)</td>\n      <td>06-Feb-1998</td>\n      <td>1</td>\n      <td>True</td>\n    </tr>\n    <tr>\n      <th>99996</th>\n      <td>863</td>\n      <td>1678</td>\n      <td>1</td>\n      <td>889289570</td>\n      <td>17</td>\n      <td>M</td>\n      <td>student</td>\n      <td>60089</td>\n      <td>Mat' i syn (1997)</td>\n      <td>06-Feb-1998</td>\n      <td>1</td>\n      <td>True</td>\n    </tr>\n    <tr>\n      <th>99997</th>\n      <td>863</td>\n      <td>1680</td>\n      <td>2</td>\n      <td>889289570</td>\n      <td>17</td>\n      <td>M</td>\n      <td>student</td>\n      <td>60089</td>\n      <td>Sliding Doors (1998)</td>\n      <td>01-Jan-1998</td>\n      <td>1</td>\n      <td>True</td>\n    </tr>\n    <tr>\n      <th>99998</th>\n      <td>896</td>\n      <td>1681</td>\n      <td>3</td>\n      <td>887160722</td>\n      <td>28</td>\n      <td>M</td>\n      <td>writer</td>\n      <td>91505</td>\n      <td>You So Crazy (1994)</td>\n      <td>01-Jan-1994</td>\n      <td>25</td>\n      <td>True</td>\n    </tr>\n    <tr>\n      <th>99999</th>\n      <td>916</td>\n      <td>1682</td>\n      <td>3</td>\n      <td>880845755</td>\n      <td>27</td>\n      <td>M</td>\n      <td>engineer</td>\n      <td>N2L5N</td>\n      <td>Scream of Stone (Schrei aus Stein) (1991)</td>\n      <td>08-Mar-1996</td>\n      <td>25</td>\n      <td>True</td>\n    </tr>\n  </tbody>\n</table>\n<p>100000 rows × 12 columns</p>\n</div>"
     },
     "execution_count": 5,
     "metadata": {},
     "output_type": "execute_result"
    }
   ],
   "source": [
    "# Simple data augmentation\n",
    "\n",
    "# Bucketize user age (as seen in tfds)\n",
    "def bucketizer(age):\n",
    "    if age < 18:\n",
    "        return 1\n",
    "    elif age >= 18 and age < 25:\n",
    "        return 18\n",
    "    elif age >= 25 and age < 35:\n",
    "        return 25\n",
    "    elif age >= 35 and age < 45:\n",
    "        return 35\n",
    "    elif age >= 45 and age < 50:\n",
    "        return 45\n",
    "    elif age >= 50 and age < 55:\n",
    "        return 50\n",
    "    else:\n",
    "        return 56\n",
    "\n",
    "df['bucketized_user_age'] = df['raw_user_age'].apply(bucketizer)\n",
    "\n",
    "# Convert gender to bool value\n",
    "df['bool_user_gender'] = df['user_gender'].map({'M': True, 'F': False})\n",
    "df\n",
    "\n",
    "# Extract year as int from release date\n",
    "# def year_extractor(date):\n",
    "#     return date.split('-')[2]\n",
    "#\n",
    "# df['release_year'] = df['release_date'].apply(year_extractor)\n",
    "# df"
   ],
   "metadata": {
    "collapsed": false,
    "pycharm": {
     "name": "#%%\n"
    }
   }
  },
  {
   "cell_type": "code",
   "execution_count": 6,
   "outputs": [],
   "source": [
    "os.chdir(\"../recommender-dataset/\")\n",
    "df.to_csv(f\"{ds_name}_augmented.csv\", index=False)"
   ],
   "metadata": {
    "collapsed": false,
    "pycharm": {
     "name": "#%%\n"
    }
   }
  }
 ],
 "metadata": {
  "kernelspec": {
   "display_name": "Python 3",
   "language": "python",
   "name": "python3"
  },
  "language_info": {
   "codemirror_mode": {
    "name": "ipython",
    "version": 2
   },
   "file_extension": ".py",
   "mimetype": "text/x-python",
   "name": "python",
   "nbconvert_exporter": "python",
   "pygments_lexer": "ipython2",
   "version": "2.7.6"
  }
 },
 "nbformat": 4,
 "nbformat_minor": 0
}