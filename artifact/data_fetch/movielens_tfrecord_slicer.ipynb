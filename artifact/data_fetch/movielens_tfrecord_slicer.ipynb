{
 "cells": [
  {
   "cell_type": "code",
   "execution_count": 1,
   "metadata": {
    "pycharm": {
     "name": "#%%\n"
    }
   },
   "outputs": [
    {
     "name": "stderr",
     "output_type": "stream",
     "text": [
      "2022-07-14 12:50:18.266083: W tensorflow/stream_executor/platform/default/dso_loader.cc:64] Could not load dynamic library 'libcudart.so.11.0'; dlerror: libcudart.so.11.0: cannot open shared object file: No such file or directory; LD_LIBRARY_PATH: \n",
      "2022-07-14 12:50:18.266107: I tensorflow/stream_executor/cuda/cudart_stub.cc:29] Ignore above cudart dlerror if you do not have a GPU set up on your machine.\n"
     ]
    },
    {
     "name": "stdout",
     "output_type": "stream",
     "text": [
      "/home/cory/PycharmProjects/bachelor_2022/artifact/data_fetch\n",
      "/home/cory/PycharmProjects/bachelor_2022/artifact/data/recommender-dataset\n"
     ]
    }
   ],
   "source": [
    "import tensorflow as tf\n",
    "import tensorflow_datasets as tfds\n",
    "import os\n",
    "\n",
    "print(os.getcwd())\n",
    "# Specify location of data\n",
    "os.chdir(\"../data/recommender-dataset\")\n",
    "print(os.getcwd())"
   ]
  },
  {
   "cell_type": "code",
   "execution_count": 2,
   "metadata": {
    "pycharm": {
     "name": "#%%\n"
    }
   },
   "outputs": [
    {
     "name": "stderr",
     "output_type": "stream",
     "text": [
      "2022-07-14 12:50:33.332856: I tensorflow/stream_executor/cuda/cuda_gpu_executor.cc:936] successful NUMA node read from SysFS had negative value (-1), but there must be at least one NUMA node, so returning NUMA node zero\n",
      "2022-07-14 12:50:33.333115: W tensorflow/stream_executor/platform/default/dso_loader.cc:64] Could not load dynamic library 'libcudart.so.11.0'; dlerror: libcudart.so.11.0: cannot open shared object file: No such file or directory; LD_LIBRARY_PATH: \n",
      "2022-07-14 12:50:33.333187: W tensorflow/stream_executor/platform/default/dso_loader.cc:64] Could not load dynamic library 'libcublas.so.11'; dlerror: libcublas.so.11: cannot open shared object file: No such file or directory; LD_LIBRARY_PATH: \n",
      "2022-07-14 12:50:33.333244: W tensorflow/stream_executor/platform/default/dso_loader.cc:64] Could not load dynamic library 'libcublasLt.so.11'; dlerror: libcublasLt.so.11: cannot open shared object file: No such file or directory; LD_LIBRARY_PATH: \n",
      "2022-07-14 12:50:33.333298: W tensorflow/stream_executor/platform/default/dso_loader.cc:64] Could not load dynamic library 'libcufft.so.10'; dlerror: libcufft.so.10: cannot open shared object file: No such file or directory; LD_LIBRARY_PATH: \n",
      "2022-07-14 12:50:33.333353: W tensorflow/stream_executor/platform/default/dso_loader.cc:64] Could not load dynamic library 'libcurand.so.10'; dlerror: libcurand.so.10: cannot open shared object file: No such file or directory; LD_LIBRARY_PATH: \n",
      "2022-07-14 12:50:33.333408: W tensorflow/stream_executor/platform/default/dso_loader.cc:64] Could not load dynamic library 'libcusolver.so.11'; dlerror: libcusolver.so.11: cannot open shared object file: No such file or directory; LD_LIBRARY_PATH: \n",
      "2022-07-14 12:50:33.333462: W tensorflow/stream_executor/platform/default/dso_loader.cc:64] Could not load dynamic library 'libcusparse.so.11'; dlerror: libcusparse.so.11: cannot open shared object file: No such file or directory; LD_LIBRARY_PATH: \n",
      "2022-07-14 12:50:33.333519: W tensorflow/stream_executor/platform/default/dso_loader.cc:64] Could not load dynamic library 'libcudnn.so.8'; dlerror: libcudnn.so.8: cannot open shared object file: No such file or directory; LD_LIBRARY_PATH: \n",
      "2022-07-14 12:50:33.333530: W tensorflow/core/common_runtime/gpu/gpu_device.cc:1850] Cannot dlopen some GPU libraries. Please make sure the missing libraries mentioned above are installed properly if you would like to use GPU. Follow the guide at https://www.tensorflow.org/install/gpu for how to download and setup the required libraries for your platform.\n",
      "Skipping registering GPU devices...\n"
     ]
    }
   ],
   "source": [
    "# Specify dataset\n",
    "ds_name = '100k-ratings'\n",
    "# Load dataset\n",
    "ds = tfds.load(name=f'movielens/{ds_name}', data_dir=os.getcwd(), download=False, split=\"all\")"
   ]
  },
  {
   "cell_type": "code",
   "execution_count": 3,
   "metadata": {
    "pycharm": {
     "name": "#%%\n"
    }
   },
   "outputs": [],
   "source": [
    "df = tfds.as_dataframe(ds)\n",
    "median_timestamp = df['timestamp'].median()"
   ]
  },
  {
   "cell_type": "code",
   "execution_count": 4,
   "metadata": {
    "pycharm": {
     "name": "#%%\n"
    }
   },
   "outputs": [
    {
     "name": "stdout",
     "output_type": "stream",
     "text": [
      "(50002, 12)\n",
      "(49998, 12)\n",
      "<class 'pandas.core.frame.DataFrame'>\n"
     ]
    },
    {
     "data": {
      "text/plain": "Index(['bucketized_user_age', 'movie_genres', 'movie_id', 'movie_title',\n       'raw_user_age', 'timestamp', 'user_gender', 'user_id',\n       'user_occupation_label', 'user_occupation_text', 'user_rating',\n       'user_zip_code'],\n      dtype='object')"
     },
     "execution_count": 4,
     "metadata": {},
     "output_type": "execute_result"
    }
   ],
   "source": [
    "# Split data in half by timestamp\n",
    "df_1 = df.loc[df['timestamp'] <= median_timestamp]\n",
    "df_2 = df.loc[df['timestamp'] > median_timestamp]\n",
    "\n",
    "# Check split\n",
    "print(df_1.shape)\n",
    "print(df_2.shape)\n",
    "print(type(df_1))\n",
    "\n",
    "df_1.columns"
   ]
  },
  {
   "cell_type": "code",
   "execution_count": 5,
   "metadata": {
    "pycharm": {
     "name": "#%%\n"
    }
   },
   "outputs": [
    {
     "name": "stdout",
     "output_type": "stream",
     "text": [
      "<class 'pandas.core.frame.DataFrame'>\n",
      "<class 'tensorflow.python.data.ops.dataset_ops.TensorSliceDataset'>\n"
     ]
    }
   ],
   "source": [
    "# Convert split Dataframes back to tf Datasets\n",
    "\n",
    "ds_1 = (\n",
    "        tf.data.Dataset.from_tensor_slices(\n",
    "            (\n",
    "                tf.cast(df_1['bucketized_user_age'].values, tf.float32),\n",
    "                #tf.cast(df_1['movie_genres'].values, tf.int64),\n",
    "                tf.cast(df_1['movie_id'].values, tf.string),\n",
    "                tf.cast(df_1['movie_title'].values, tf.string),\n",
    "                tf.cast(df_1['raw_user_age'].values, tf.float32),\n",
    "                tf.cast(df_1['timestamp'].values, tf.int64),\n",
    "                tf.cast(df_1['user_gender'].values, tf.bool),\n",
    "                tf.cast(df_1['user_id'].values, tf.string),\n",
    "                tf.cast(df_1['user_occupation_label'].values, tf.int64),\n",
    "                tf.cast(df_1['user_occupation_text'].values, tf.string),\n",
    "                tf.cast(df_1['user_rating'].values, tf.float32),\n",
    "                tf.cast(df_1['user_zip_code'].values, tf.string),\n",
    "\n",
    "            )\n",
    "        )\n",
    "    )\n",
    "\n",
    "ds_2 = (\n",
    "        tf.data.Dataset.from_tensor_slices(\n",
    "            (\n",
    "                tf.cast(df_2['bucketized_user_age'].values, tf.float32),\n",
    "                #tf.cast(df_2['movie_genres'].values, tf.int64),\n",
    "                tf.cast(df_2['movie_id'].values, tf.string),\n",
    "                tf.cast(df_2['movie_title'].values, tf.string),\n",
    "                tf.cast(df_2['raw_user_age'].values, tf.float32),\n",
    "                tf.cast(df_2['timestamp'].values, tf.int64),\n",
    "                tf.cast(df_2['user_gender'].values, tf.bool),\n",
    "                tf.cast(df_2['user_id'].values, tf.string),\n",
    "                tf.cast(df_2['user_occupation_label'].values, tf.int64),\n",
    "                tf.cast(df_2['user_occupation_text'].values, tf.string),\n",
    "                tf.cast(df_2['user_rating'].values, tf.float32),\n",
    "                tf.cast(df_2['user_zip_code'].values, tf.string),\n",
    "\n",
    "            )\n",
    "        )\n",
    "    )\n",
    "\n",
    "\n",
    "# Check types\n",
    "print(type(df_1))\n",
    "print(type(ds_1))"
   ]
  },
  {
   "cell_type": "code",
   "execution_count": 43,
   "metadata": {
    "pycharm": {
     "name": "#%%\n"
    }
   },
   "outputs": [],
   "source": [
    "# Put datasets in a list to execute write process in a loop\n",
    "ds_list = [ds_1, ds_2]\n",
    "\n",
    "for i in range(len(ds_list)):\n",
    "    # Define & create dir\n",
    "    data_path = f'movielens/{ds_name}-split_{i+1}'\n",
    "    if os.path.exists(data_path) is False:\n",
    "        os.mkdir(data_path)\n",
    "    # Serialize Dataset by converting each tensor and save it in a separate tfrecord file\n",
    "    for j, _ in enumerate(ds_list[i].element_spec):\n",
    "        serialized_tensor = ds_list[i].map(lambda *args: args[j]).map(tf.io.serialize_tensor)\n",
    "        writer = tf.data.experimental.TFRecordWriter(data_path + f'/movielens-{j}.tfrecord')\n",
    "        writer.write(serialized_tensor)"
   ]
  },
  {
   "cell_type": "code",
   "execution_count": 6,
   "outputs": [],
   "source": [
    "data_path = f'movielens/test'\n",
    "tf.data.experimental.save(ds_1, data_path)"
   ],
   "metadata": {
    "collapsed": false,
    "pycharm": {
     "name": "#%%\n"
    }
   }
  }
 ],
 "metadata": {
  "kernelspec": {
   "display_name": "Python 3 (ipykernel)",
   "language": "python",
   "name": "python3"
  },
  "language_info": {
   "codemirror_mode": {
    "name": "ipython",
    "version": 3
   },
   "file_extension": ".py",
   "mimetype": "text/x-python",
   "name": "python",
   "nbconvert_exporter": "python",
   "pygments_lexer": "ipython3",
   "version": "3.8.13"
  }
 },
 "nbformat": 4,
 "nbformat_minor": 1
}