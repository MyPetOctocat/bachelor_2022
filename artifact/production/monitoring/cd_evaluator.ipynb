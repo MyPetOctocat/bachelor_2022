{
 "cells": [
  {
   "cell_type": "code",
   "execution_count": 1,
   "outputs": [],
   "source": [
    "import pandas as pd\n",
    "import numpy as np\n",
    "import matplotlib.pyplot as plt\n",
    "import seaborn as sns"
   ],
   "metadata": {
    "collapsed": false,
    "pycharm": {
     "name": "#%%\n"
    }
   }
  },
  {
   "cell_type": "code",
   "execution_count": 2,
   "outputs": [
    {
     "data": {
      "text/plain": "    Unnamed: 0  user_id  movie_id  user_rating  timestamp  user_occupation  \\\n0        43660      798        52            3  876176979                1   \n1        87278      709       849            4  879848590               10   \n2        14317      785        79            4  879438984                9   \n3        81932      435       139            2  884134134                9   \n4        95321      435       444            3  884134075                9   \n..         ...      ...       ...          ...        ...              ...   \n95       31901      468        89            4  875291722                9   \n96       56164      830       313            5  891462165                2   \n97       14445       94       829            2  891724800                6   \n98       78693      130       436            3  875801573               19   \n99       41780      592       631            3  882956624                6   \n\n    user_age_cohort  user_gender  pred_rating  pred_int_rating  \n0                 3            0     2.589300                3  \n1                 2            1     3.834248                4  \n2                 5            1     4.254503                4  \n3                 2            1     2.310845                2  \n4                 2            1     3.037222                3  \n..              ...          ...          ...              ...  \n95                5            1     4.769455                5  \n96                1            1     4.998848                5  \n97                5            1     2.842433                3  \n98                2            1     3.319857                3  \n99                2            1     3.748748                4  \n\n[100 rows x 10 columns]",
      "text/html": "<div>\n<style scoped>\n    .dataframe tbody tr th:only-of-type {\n        vertical-align: middle;\n    }\n\n    .dataframe tbody tr th {\n        vertical-align: top;\n    }\n\n    .dataframe thead th {\n        text-align: right;\n    }\n</style>\n<table border=\"1\" class=\"dataframe\">\n  <thead>\n    <tr style=\"text-align: right;\">\n      <th></th>\n      <th>Unnamed: 0</th>\n      <th>user_id</th>\n      <th>movie_id</th>\n      <th>user_rating</th>\n      <th>timestamp</th>\n      <th>user_occupation</th>\n      <th>user_age_cohort</th>\n      <th>user_gender</th>\n      <th>pred_rating</th>\n      <th>pred_int_rating</th>\n    </tr>\n  </thead>\n  <tbody>\n    <tr>\n      <th>0</th>\n      <td>43660</td>\n      <td>798</td>\n      <td>52</td>\n      <td>3</td>\n      <td>876176979</td>\n      <td>1</td>\n      <td>3</td>\n      <td>0</td>\n      <td>2.589300</td>\n      <td>3</td>\n    </tr>\n    <tr>\n      <th>1</th>\n      <td>87278</td>\n      <td>709</td>\n      <td>849</td>\n      <td>4</td>\n      <td>879848590</td>\n      <td>10</td>\n      <td>2</td>\n      <td>1</td>\n      <td>3.834248</td>\n      <td>4</td>\n    </tr>\n    <tr>\n      <th>2</th>\n      <td>14317</td>\n      <td>785</td>\n      <td>79</td>\n      <td>4</td>\n      <td>879438984</td>\n      <td>9</td>\n      <td>5</td>\n      <td>1</td>\n      <td>4.254503</td>\n      <td>4</td>\n    </tr>\n    <tr>\n      <th>3</th>\n      <td>81932</td>\n      <td>435</td>\n      <td>139</td>\n      <td>2</td>\n      <td>884134134</td>\n      <td>9</td>\n      <td>2</td>\n      <td>1</td>\n      <td>2.310845</td>\n      <td>2</td>\n    </tr>\n    <tr>\n      <th>4</th>\n      <td>95321</td>\n      <td>435</td>\n      <td>444</td>\n      <td>3</td>\n      <td>884134075</td>\n      <td>9</td>\n      <td>2</td>\n      <td>1</td>\n      <td>3.037222</td>\n      <td>3</td>\n    </tr>\n    <tr>\n      <th>...</th>\n      <td>...</td>\n      <td>...</td>\n      <td>...</td>\n      <td>...</td>\n      <td>...</td>\n      <td>...</td>\n      <td>...</td>\n      <td>...</td>\n      <td>...</td>\n      <td>...</td>\n    </tr>\n    <tr>\n      <th>95</th>\n      <td>31901</td>\n      <td>468</td>\n      <td>89</td>\n      <td>4</td>\n      <td>875291722</td>\n      <td>9</td>\n      <td>5</td>\n      <td>1</td>\n      <td>4.769455</td>\n      <td>5</td>\n    </tr>\n    <tr>\n      <th>96</th>\n      <td>56164</td>\n      <td>830</td>\n      <td>313</td>\n      <td>5</td>\n      <td>891462165</td>\n      <td>2</td>\n      <td>1</td>\n      <td>1</td>\n      <td>4.998848</td>\n      <td>5</td>\n    </tr>\n    <tr>\n      <th>97</th>\n      <td>14445</td>\n      <td>94</td>\n      <td>829</td>\n      <td>2</td>\n      <td>891724800</td>\n      <td>6</td>\n      <td>5</td>\n      <td>1</td>\n      <td>2.842433</td>\n      <td>3</td>\n    </tr>\n    <tr>\n      <th>98</th>\n      <td>78693</td>\n      <td>130</td>\n      <td>436</td>\n      <td>3</td>\n      <td>875801573</td>\n      <td>19</td>\n      <td>2</td>\n      <td>1</td>\n      <td>3.319857</td>\n      <td>3</td>\n    </tr>\n    <tr>\n      <th>99</th>\n      <td>41780</td>\n      <td>592</td>\n      <td>631</td>\n      <td>3</td>\n      <td>882956624</td>\n      <td>6</td>\n      <td>2</td>\n      <td>1</td>\n      <td>3.748748</td>\n      <td>4</td>\n    </tr>\n  </tbody>\n</table>\n<p>100 rows × 10 columns</p>\n</div>"
     },
     "execution_count": 2,
     "metadata": {},
     "output_type": "execute_result"
    }
   ],
   "source": [
    "df = pd.read_csv('DCN-iterate_1658684509_predictions.csv')\n",
    "df"
   ],
   "metadata": {
    "collapsed": false,
    "pycharm": {
     "name": "#%%\n"
    }
   }
  },
  {
   "cell_type": "code",
   "execution_count": 3,
   "outputs": [],
   "source": [
    "# Define RMSE function\n",
    "\n",
    "def rmse(predictions, targets):\n",
    "    return np.sqrt(((predictions - targets) ** 2).mean())"
   ],
   "metadata": {
    "collapsed": false,
    "pycharm": {
     "name": "#%%\n"
    }
   }
  },
  {
   "cell_type": "code",
   "execution_count": 4,
   "outputs": [
    {
     "data": {
      "text/plain": "0.7810249675906654"
     },
     "execution_count": 4,
     "metadata": {},
     "output_type": "execute_result"
    }
   ],
   "source": [
    "# Fetch data for RMSE calculations\n",
    "rmse(df['pred_int_rating'], df['user_rating'])"
   ],
   "metadata": {
    "collapsed": false,
    "pycharm": {
     "name": "#%%\n"
    }
   }
  },
  {
   "cell_type": "code",
   "execution_count": 5,
   "outputs": [
    {
     "data": {
      "text/plain": "    Unnamed: 0  user_id  movie_id  user_rating  timestamp  user_occupation  \\\n49        1217      640       663            5  874778240                6   \n27       27706      640       231            5  874778424                6   \n78       40272      291       164            4  874834875                6   \n15       45417      291       200            4  874867740                6   \n32       82950      346       831            3  875003274               10   \n..         ...      ...       ...          ...        ...              ...   \n28       92621      234      1126            4  892079722                4   \n37       72719      796       480            4  892663155                1   \n67       49274       56       169            4  892683248               17   \n17       91216      776       567            2  892920351               17   \n71       20600      189       241            3  893265947               13   \n\n    user_age_cohort  user_gender  pred_rating  pred_int_rating  \\\n49                2            1     5.247589                5   \n27                2            1     3.633689                4   \n78                2            1     4.719562                5   \n15                2            1     4.536109                5   \n32                5            1     3.056947                3   \n..              ...          ...          ...              ...   \n28                4            1     3.900551                4   \n37                5            0     4.889626                5   \n67                5            1     4.636249                5   \n17                5            1     3.029765                3   \n71                5            1     1.390666                1   \n\n                  date  \n49 1997-09-20 17:57:20  \n27 1997-09-20 18:00:24  \n78 1997-09-21 09:41:15  \n15 1997-09-21 18:49:00  \n32 1997-09-23 08:27:54  \n..                 ...  \n28 1998-04-08 23:55:22  \n37 1998-04-15 17:59:15  \n67 1998-04-15 23:34:08  \n17 1998-04-18 17:25:51  \n71 1998-04-22 17:25:47  \n\n[100 rows x 11 columns]",
      "text/html": "<div>\n<style scoped>\n    .dataframe tbody tr th:only-of-type {\n        vertical-align: middle;\n    }\n\n    .dataframe tbody tr th {\n        vertical-align: top;\n    }\n\n    .dataframe thead th {\n        text-align: right;\n    }\n</style>\n<table border=\"1\" class=\"dataframe\">\n  <thead>\n    <tr style=\"text-align: right;\">\n      <th></th>\n      <th>Unnamed: 0</th>\n      <th>user_id</th>\n      <th>movie_id</th>\n      <th>user_rating</th>\n      <th>timestamp</th>\n      <th>user_occupation</th>\n      <th>user_age_cohort</th>\n      <th>user_gender</th>\n      <th>pred_rating</th>\n      <th>pred_int_rating</th>\n      <th>date</th>\n    </tr>\n  </thead>\n  <tbody>\n    <tr>\n      <th>49</th>\n      <td>1217</td>\n      <td>640</td>\n      <td>663</td>\n      <td>5</td>\n      <td>874778240</td>\n      <td>6</td>\n      <td>2</td>\n      <td>1</td>\n      <td>5.247589</td>\n      <td>5</td>\n      <td>1997-09-20 17:57:20</td>\n    </tr>\n    <tr>\n      <th>27</th>\n      <td>27706</td>\n      <td>640</td>\n      <td>231</td>\n      <td>5</td>\n      <td>874778424</td>\n      <td>6</td>\n      <td>2</td>\n      <td>1</td>\n      <td>3.633689</td>\n      <td>4</td>\n      <td>1997-09-20 18:00:24</td>\n    </tr>\n    <tr>\n      <th>78</th>\n      <td>40272</td>\n      <td>291</td>\n      <td>164</td>\n      <td>4</td>\n      <td>874834875</td>\n      <td>6</td>\n      <td>2</td>\n      <td>1</td>\n      <td>4.719562</td>\n      <td>5</td>\n      <td>1997-09-21 09:41:15</td>\n    </tr>\n    <tr>\n      <th>15</th>\n      <td>45417</td>\n      <td>291</td>\n      <td>200</td>\n      <td>4</td>\n      <td>874867740</td>\n      <td>6</td>\n      <td>2</td>\n      <td>1</td>\n      <td>4.536109</td>\n      <td>5</td>\n      <td>1997-09-21 18:49:00</td>\n    </tr>\n    <tr>\n      <th>32</th>\n      <td>82950</td>\n      <td>346</td>\n      <td>831</td>\n      <td>3</td>\n      <td>875003274</td>\n      <td>10</td>\n      <td>5</td>\n      <td>1</td>\n      <td>3.056947</td>\n      <td>3</td>\n      <td>1997-09-23 08:27:54</td>\n    </tr>\n    <tr>\n      <th>...</th>\n      <td>...</td>\n      <td>...</td>\n      <td>...</td>\n      <td>...</td>\n      <td>...</td>\n      <td>...</td>\n      <td>...</td>\n      <td>...</td>\n      <td>...</td>\n      <td>...</td>\n      <td>...</td>\n    </tr>\n    <tr>\n      <th>28</th>\n      <td>92621</td>\n      <td>234</td>\n      <td>1126</td>\n      <td>4</td>\n      <td>892079722</td>\n      <td>4</td>\n      <td>4</td>\n      <td>1</td>\n      <td>3.900551</td>\n      <td>4</td>\n      <td>1998-04-08 23:55:22</td>\n    </tr>\n    <tr>\n      <th>37</th>\n      <td>72719</td>\n      <td>796</td>\n      <td>480</td>\n      <td>4</td>\n      <td>892663155</td>\n      <td>1</td>\n      <td>5</td>\n      <td>0</td>\n      <td>4.889626</td>\n      <td>5</td>\n      <td>1998-04-15 17:59:15</td>\n    </tr>\n    <tr>\n      <th>67</th>\n      <td>49274</td>\n      <td>56</td>\n      <td>169</td>\n      <td>4</td>\n      <td>892683248</td>\n      <td>17</td>\n      <td>5</td>\n      <td>1</td>\n      <td>4.636249</td>\n      <td>5</td>\n      <td>1998-04-15 23:34:08</td>\n    </tr>\n    <tr>\n      <th>17</th>\n      <td>91216</td>\n      <td>776</td>\n      <td>567</td>\n      <td>2</td>\n      <td>892920351</td>\n      <td>17</td>\n      <td>5</td>\n      <td>1</td>\n      <td>3.029765</td>\n      <td>3</td>\n      <td>1998-04-18 17:25:51</td>\n    </tr>\n    <tr>\n      <th>71</th>\n      <td>20600</td>\n      <td>189</td>\n      <td>241</td>\n      <td>3</td>\n      <td>893265947</td>\n      <td>13</td>\n      <td>5</td>\n      <td>1</td>\n      <td>1.390666</td>\n      <td>1</td>\n      <td>1998-04-22 17:25:47</td>\n    </tr>\n  </tbody>\n</table>\n<p>100 rows × 11 columns</p>\n</div>"
     },
     "execution_count": 5,
     "metadata": {},
     "output_type": "execute_result"
    }
   ],
   "source": [
    "# Sort by timestamp\n",
    "df_sorted = df.sort_values(by=['timestamp'])\n",
    "df_sorted\n",
    "\n",
    "# Convert timestamp to date\n",
    "df_sorted['date'] = pd.to_datetime(df_sorted['timestamp'], unit='s')\n",
    "df_sorted"
   ],
   "metadata": {
    "collapsed": false,
    "pycharm": {
     "name": "#%%\n"
    }
   }
  },
  {
   "cell_type": "code",
   "execution_count": 6,
   "outputs": [
    {
     "data": {
      "text/plain": "              Unnamed: 0     user_id    movie_id  user_rating     timestamp  \\\ndate                                                                          \n1997-09-30  56039.111111  494.222222  574.888889     3.666667  8.750276e+08   \n1997-10-31  43619.111111  554.888889  358.666667     3.777778  8.766545e+08   \n1997-11-30  45289.760000  423.440000  338.320000     3.720000  8.795489e+08   \n1997-12-31  40815.000000  445.000000  509.000000     3.600000  8.820814e+08   \n1998-01-31  62016.333333  415.388889  482.722222     3.333333  8.847413e+08   \n1998-02-28  52021.300000  557.600000  407.300000     3.100000  8.878815e+08   \n1998-03-31  41107.300000  641.400000  509.000000     3.400000  8.904225e+08   \n1998-04-30  62464.222222  376.555556  539.333333     3.666667  8.922483e+08   \n\n            user_occupation  user_age_cohort  user_gender  pred_rating  \\\ndate                                                                     \n1997-09-30         7.111111         3.333333     0.888889     3.816806   \n1997-10-31         8.333333         3.111111     0.666667     3.640777   \n1997-11-30         9.280000         4.000000     0.760000     3.774238   \n1997-12-31         9.000000         3.800000     1.000000     3.807258   \n1998-01-31         9.333333         4.000000     0.722222     3.332124   \n1998-02-28         7.400000         3.700000     0.800000     3.525895   \n1998-03-31        10.100000         3.900000     0.500000     3.577853   \n1998-04-30         8.777778         4.444444     0.777778     3.892981   \n\n            pred_int_rating  \ndate                         \n1997-09-30         3.888889  \n1997-10-31         3.666667  \n1997-11-30         3.720000  \n1997-12-31         3.700000  \n1998-01-31         3.333333  \n1998-02-28         3.400000  \n1998-03-31         3.600000  \n1998-04-30         3.888889  ",
      "text/html": "<div>\n<style scoped>\n    .dataframe tbody tr th:only-of-type {\n        vertical-align: middle;\n    }\n\n    .dataframe tbody tr th {\n        vertical-align: top;\n    }\n\n    .dataframe thead th {\n        text-align: right;\n    }\n</style>\n<table border=\"1\" class=\"dataframe\">\n  <thead>\n    <tr style=\"text-align: right;\">\n      <th></th>\n      <th>Unnamed: 0</th>\n      <th>user_id</th>\n      <th>movie_id</th>\n      <th>user_rating</th>\n      <th>timestamp</th>\n      <th>user_occupation</th>\n      <th>user_age_cohort</th>\n      <th>user_gender</th>\n      <th>pred_rating</th>\n      <th>pred_int_rating</th>\n    </tr>\n    <tr>\n      <th>date</th>\n      <th></th>\n      <th></th>\n      <th></th>\n      <th></th>\n      <th></th>\n      <th></th>\n      <th></th>\n      <th></th>\n      <th></th>\n      <th></th>\n    </tr>\n  </thead>\n  <tbody>\n    <tr>\n      <th>1997-09-30</th>\n      <td>56039.111111</td>\n      <td>494.222222</td>\n      <td>574.888889</td>\n      <td>3.666667</td>\n      <td>8.750276e+08</td>\n      <td>7.111111</td>\n      <td>3.333333</td>\n      <td>0.888889</td>\n      <td>3.816806</td>\n      <td>3.888889</td>\n    </tr>\n    <tr>\n      <th>1997-10-31</th>\n      <td>43619.111111</td>\n      <td>554.888889</td>\n      <td>358.666667</td>\n      <td>3.777778</td>\n      <td>8.766545e+08</td>\n      <td>8.333333</td>\n      <td>3.111111</td>\n      <td>0.666667</td>\n      <td>3.640777</td>\n      <td>3.666667</td>\n    </tr>\n    <tr>\n      <th>1997-11-30</th>\n      <td>45289.760000</td>\n      <td>423.440000</td>\n      <td>338.320000</td>\n      <td>3.720000</td>\n      <td>8.795489e+08</td>\n      <td>9.280000</td>\n      <td>4.000000</td>\n      <td>0.760000</td>\n      <td>3.774238</td>\n      <td>3.720000</td>\n    </tr>\n    <tr>\n      <th>1997-12-31</th>\n      <td>40815.000000</td>\n      <td>445.000000</td>\n      <td>509.000000</td>\n      <td>3.600000</td>\n      <td>8.820814e+08</td>\n      <td>9.000000</td>\n      <td>3.800000</td>\n      <td>1.000000</td>\n      <td>3.807258</td>\n      <td>3.700000</td>\n    </tr>\n    <tr>\n      <th>1998-01-31</th>\n      <td>62016.333333</td>\n      <td>415.388889</td>\n      <td>482.722222</td>\n      <td>3.333333</td>\n      <td>8.847413e+08</td>\n      <td>9.333333</td>\n      <td>4.000000</td>\n      <td>0.722222</td>\n      <td>3.332124</td>\n      <td>3.333333</td>\n    </tr>\n    <tr>\n      <th>1998-02-28</th>\n      <td>52021.300000</td>\n      <td>557.600000</td>\n      <td>407.300000</td>\n      <td>3.100000</td>\n      <td>8.878815e+08</td>\n      <td>7.400000</td>\n      <td>3.700000</td>\n      <td>0.800000</td>\n      <td>3.525895</td>\n      <td>3.400000</td>\n    </tr>\n    <tr>\n      <th>1998-03-31</th>\n      <td>41107.300000</td>\n      <td>641.400000</td>\n      <td>509.000000</td>\n      <td>3.400000</td>\n      <td>8.904225e+08</td>\n      <td>10.100000</td>\n      <td>3.900000</td>\n      <td>0.500000</td>\n      <td>3.577853</td>\n      <td>3.600000</td>\n    </tr>\n    <tr>\n      <th>1998-04-30</th>\n      <td>62464.222222</td>\n      <td>376.555556</td>\n      <td>539.333333</td>\n      <td>3.666667</td>\n      <td>8.922483e+08</td>\n      <td>8.777778</td>\n      <td>4.444444</td>\n      <td>0.777778</td>\n      <td>3.892981</td>\n      <td>3.888889</td>\n    </tr>\n  </tbody>\n</table>\n</div>"
     },
     "execution_count": 6,
     "metadata": {},
     "output_type": "execute_result"
    }
   ],
   "source": [
    "df_rmse = df_sorted[['date', 'user_rating', 'pred_rating']]\n",
    "df_rmse\n",
    "\n",
    "df_sorted.groupby(pd.Grouper(key=\"date\", freq=\"M\")).mean()"
   ],
   "metadata": {
    "collapsed": false,
    "pycharm": {
     "name": "#%%\n"
    }
   }
  },
  {
   "cell_type": "code",
   "execution_count": 30,
   "outputs": [
    {
     "data": {
      "text/plain": "            rmse_float  rmse_int\ndate                            \n1997-12-31    0.838945  0.777029\n1998-12-31    0.811808  0.785507",
      "text/html": "<div>\n<style scoped>\n    .dataframe tbody tr th:only-of-type {\n        vertical-align: middle;\n    }\n\n    .dataframe tbody tr th {\n        vertical-align: top;\n    }\n\n    .dataframe thead th {\n        text-align: right;\n    }\n</style>\n<table border=\"1\" class=\"dataframe\">\n  <thead>\n    <tr style=\"text-align: right;\">\n      <th></th>\n      <th>rmse_float</th>\n      <th>rmse_int</th>\n    </tr>\n    <tr>\n      <th>date</th>\n      <th></th>\n      <th></th>\n    </tr>\n  </thead>\n  <tbody>\n    <tr>\n      <th>1997-12-31</th>\n      <td>0.838945</td>\n      <td>0.777029</td>\n    </tr>\n    <tr>\n      <th>1998-12-31</th>\n      <td>0.811808</td>\n      <td>0.785507</td>\n    </tr>\n  </tbody>\n</table>\n</div>"
     },
     "execution_count": 30,
     "metadata": {},
     "output_type": "execute_result"
    }
   ],
   "source": [
    "# Group by date and calculate the rmse for each month/week/year\n",
    "rmse_float = df_sorted[['date', 'user_rating', 'pred_rating']].groupby(pd.Grouper(key=\"date\", freq=\"Y\")).apply(lambda x: rmse(x.pred_rating, x.user_rating))\n",
    "rmse_int = df_sorted[['date', 'user_rating', 'pred_int_rating']].groupby(pd.Grouper(key=\"date\", freq=\"Y\")).apply(lambda x: rmse(x.pred_int_rating, x.user_rating))\n",
    "\n",
    "rmse_df = pd.DataFrame(dict(rmse_float = rmse_float, rmse_int = rmse_int))\n",
    "rmse_df"
   ],
   "metadata": {
    "collapsed": false,
    "pycharm": {
     "name": "#%%\n"
    }
   }
  },
  {
   "cell_type": "code",
   "execution_count": 31,
   "outputs": [
    {
     "data": {
      "text/plain": "<Figure size 432x288 with 1 Axes>",
      "image/png": "[encoded data removed]"
     },
     "metadata": {
      "needs_background": "light"
     },
     "output_type": "display_data"
    }
   ],
   "source": [
    "# CD understanding\n",
    "rmse_trend = sns.lineplot(data = rmse_df)"
   ],
   "metadata": {
    "collapsed": false,
    "pycharm": {
     "name": "#%%\n"
    }
   }
  },
  {
   "cell_type": "code",
   "execution_count": 32,
   "outputs": [],
   "source": [
    "# Save plot\n",
    "fig = rmse_trend.get_figure()\n",
    "fig.savefig(\"rmse_trend.png\")"
   ],
   "metadata": {
    "collapsed": false,
    "pycharm": {
     "name": "#%%\n"
    }
   }
  },
  {
   "cell_type": "code",
   "execution_count": 33,
   "outputs": [
    {
     "data": {
      "text/plain": "            rmse_float  rmse_int\ndate                            \n1997-12-31    0.838945  0.777029\n1998-12-31    0.811808  0.785507",
      "text/html": "<div>\n<style scoped>\n    .dataframe tbody tr th:only-of-type {\n        vertical-align: middle;\n    }\n\n    .dataframe tbody tr th {\n        vertical-align: top;\n    }\n\n    .dataframe thead th {\n        text-align: right;\n    }\n</style>\n<table border=\"1\" class=\"dataframe\">\n  <thead>\n    <tr style=\"text-align: right;\">\n      <th></th>\n      <th>rmse_float</th>\n      <th>rmse_int</th>\n    </tr>\n    <tr>\n      <th>date</th>\n      <th></th>\n      <th></th>\n    </tr>\n  </thead>\n  <tbody>\n    <tr>\n      <th>1997-12-31</th>\n      <td>0.838945</td>\n      <td>0.777029</td>\n    </tr>\n    <tr>\n      <th>1998-12-31</th>\n      <td>0.811808</td>\n      <td>0.785507</td>\n    </tr>\n  </tbody>\n</table>\n</div>"
     },
     "execution_count": 33,
     "metadata": {},
     "output_type": "execute_result"
    }
   ],
   "source": [
    "rmse_df"
   ],
   "metadata": {
    "collapsed": false,
    "pycharm": {
     "name": "#%%\n"
    }
   }
  },
  {
   "cell_type": "code",
   "execution_count": 101,
   "outputs": [
    {
     "data": {
      "text/plain": "            rmse_float  rmse_int\ndate                            \n1997-12-31         NaN       NaN\n1998-12-31   -0.027137  0.008478",
      "text/html": "<div>\n<style scoped>\n    .dataframe tbody tr th:only-of-type {\n        vertical-align: middle;\n    }\n\n    .dataframe tbody tr th {\n        vertical-align: top;\n    }\n\n    .dataframe thead th {\n        text-align: right;\n    }\n</style>\n<table border=\"1\" class=\"dataframe\">\n  <thead>\n    <tr style=\"text-align: right;\">\n      <th></th>\n      <th>rmse_float</th>\n      <th>rmse_int</th>\n    </tr>\n    <tr>\n      <th>date</th>\n      <th></th>\n      <th></th>\n    </tr>\n  </thead>\n  <tbody>\n    <tr>\n      <th>1997-12-31</th>\n      <td>NaN</td>\n      <td>NaN</td>\n    </tr>\n    <tr>\n      <th>1998-12-31</th>\n      <td>-0.027137</td>\n      <td>0.008478</td>\n    </tr>\n  </tbody>\n</table>\n</div>"
     },
     "execution_count": 101,
     "metadata": {},
     "output_type": "execute_result"
    }
   ],
   "source": [
    "# CD detection\n",
    "\n",
    "rmse_delta_threshold = 0.1  # CD detection is identified if RMSE worsens by a value of 0.1 from the previous entry\n",
    "rmse_absolute_threshold = 1.5  # CD detection is identified if RMSE surpasses this threshold --> To detect CD over longer periods\n",
    "\n",
    "rmse_delta = rmse_df.rolling(2).apply(lambda x: x.iloc[1] - x.iloc[0])  # Calculate delta between 2 values within a rolling window\n",
    "rmse_delta"
   ],
   "metadata": {
    "collapsed": false,
    "pycharm": {
     "name": "#%%\n"
    }
   }
  },
  {
   "cell_type": "code",
   "execution_count": 107,
   "outputs": [],
   "source": [
    "# Checks whether RMSE thresholds have been surpassed. If not return True\n",
    "absolute_rmse_ok = (rmse_df < rmse_absolute_threshold).any().all()\n",
    "delta_rmse_ok = (rmse_delta < rmse_delta_threshold).any().all()"
   ],
   "metadata": {
    "collapsed": false,
    "pycharm": {
     "name": "#%%\n"
    }
   }
  },
  {
   "cell_type": "code",
   "execution_count": 109,
   "outputs": [
    {
     "name": "stdout",
     "output_type": "stream",
     "text": [
      "True\n"
     ]
    }
   ],
   "source": [
    "print(absolute_rmse_ok and delta_rmse_ok)\n",
    "\n",
    "from time import time\n",
    "\n",
    "if absolute_rmse_ok and delta_rmse_ok:\n",
    "    with open('OK.txt', 'w') as file:\n",
    "        file.write(str(time()))\n",
    "else:\n",
    "    with open('CD_DETECTED.txt', 'w') as file:\n",
    "        file.write(str(time()))"
   ],
   "metadata": {
    "collapsed": false,
    "pycharm": {
     "name": "#%%\n"
    }
   }
  }
 ],
 "metadata": {
  "kernelspec": {
   "display_name": "Python 3",
   "language": "python",
   "name": "python3"
  },
  "language_info": {
   "codemirror_mode": {
    "name": "ipython",
    "version": 2
   },
   "file_extension": ".py",
   "mimetype": "text/x-python",
   "name": "python",
   "nbconvert_exporter": "python",
   "pygments_lexer": "ipython2",
   "version": "2.7.6"
  }
 },
 "nbformat": 4,
 "nbformat_minor": 0
}