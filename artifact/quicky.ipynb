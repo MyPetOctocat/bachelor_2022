{
 "cells": [
  {
   "cell_type": "code",
   "execution_count": 18,
   "outputs": [],
   "source": [
    "import pandas as pd\n",
    "import numpy as np"
   ],
   "metadata": {
    "collapsed": false,
    "pycharm": {
     "name": "#%%\n"
    }
   }
  },
  {
   "cell_type": "code",
   "execution_count": 19,
   "outputs": [
    {
     "data": {
      "text/plain": "       movie_id  user_id  user_rating  user_gender user_zip_code  \\\n0           242      196            3            1         55105   \n1           242      305            5            1         94086   \n2           242        6            4            1         98101   \n3           242      234            4            1         94702   \n4           242       63            3            1         75240   \n...         ...      ...          ...          ...           ...   \n99995      1679      863            3            1         60089   \n99996      1678      863            1            1         60089   \n99997      1680      863            2            1         60089   \n99998      1681      896            3            1         91505   \n99999      1682      916            3            1         N2L5N   \n\n      user_occupation_text  bucketized_user_age  \n0                   writer                   45  \n1               programmer                   18  \n2                executive                   35  \n3                  retired                   56  \n4                marketing                   25  \n...                    ...                  ...  \n99995              student                    1  \n99996              student                    1  \n99997              student                    1  \n99998               writer                   25  \n99999             engineer                   25  \n\n[100000 rows x 7 columns]",
      "text/html": "<div>\n<style scoped>\n    .dataframe tbody tr th:only-of-type {\n        vertical-align: middle;\n    }\n\n    .dataframe tbody tr th {\n        vertical-align: top;\n    }\n\n    .dataframe thead th {\n        text-align: right;\n    }\n</style>\n<table border=\"1\" class=\"dataframe\">\n  <thead>\n    <tr style=\"text-align: right;\">\n      <th></th>\n      <th>movie_id</th>\n      <th>user_id</th>\n      <th>user_rating</th>\n      <th>user_gender</th>\n      <th>user_zip_code</th>\n      <th>user_occupation_text</th>\n      <th>bucketized_user_age</th>\n    </tr>\n  </thead>\n  <tbody>\n    <tr>\n      <th>0</th>\n      <td>242</td>\n      <td>196</td>\n      <td>3</td>\n      <td>1</td>\n      <td>55105</td>\n      <td>writer</td>\n      <td>45</td>\n    </tr>\n    <tr>\n      <th>1</th>\n      <td>242</td>\n      <td>305</td>\n      <td>5</td>\n      <td>1</td>\n      <td>94086</td>\n      <td>programmer</td>\n      <td>18</td>\n    </tr>\n    <tr>\n      <th>2</th>\n      <td>242</td>\n      <td>6</td>\n      <td>4</td>\n      <td>1</td>\n      <td>98101</td>\n      <td>executive</td>\n      <td>35</td>\n    </tr>\n    <tr>\n      <th>3</th>\n      <td>242</td>\n      <td>234</td>\n      <td>4</td>\n      <td>1</td>\n      <td>94702</td>\n      <td>retired</td>\n      <td>56</td>\n    </tr>\n    <tr>\n      <th>4</th>\n      <td>242</td>\n      <td>63</td>\n      <td>3</td>\n      <td>1</td>\n      <td>75240</td>\n      <td>marketing</td>\n      <td>25</td>\n    </tr>\n    <tr>\n      <th>...</th>\n      <td>...</td>\n      <td>...</td>\n      <td>...</td>\n      <td>...</td>\n      <td>...</td>\n      <td>...</td>\n      <td>...</td>\n    </tr>\n    <tr>\n      <th>99995</th>\n      <td>1679</td>\n      <td>863</td>\n      <td>3</td>\n      <td>1</td>\n      <td>60089</td>\n      <td>student</td>\n      <td>1</td>\n    </tr>\n    <tr>\n      <th>99996</th>\n      <td>1678</td>\n      <td>863</td>\n      <td>1</td>\n      <td>1</td>\n      <td>60089</td>\n      <td>student</td>\n      <td>1</td>\n    </tr>\n    <tr>\n      <th>99997</th>\n      <td>1680</td>\n      <td>863</td>\n      <td>2</td>\n      <td>1</td>\n      <td>60089</td>\n      <td>student</td>\n      <td>1</td>\n    </tr>\n    <tr>\n      <th>99998</th>\n      <td>1681</td>\n      <td>896</td>\n      <td>3</td>\n      <td>1</td>\n      <td>91505</td>\n      <td>writer</td>\n      <td>25</td>\n    </tr>\n    <tr>\n      <th>99999</th>\n      <td>1682</td>\n      <td>916</td>\n      <td>3</td>\n      <td>1</td>\n      <td>N2L5N</td>\n      <td>engineer</td>\n      <td>25</td>\n    </tr>\n  </tbody>\n</table>\n<p>100000 rows × 7 columns</p>\n</div>"
     },
     "execution_count": 19,
     "metadata": {},
     "output_type": "execute_result"
    }
   ],
   "source": [
    "df = pd.read_csv('data/recommender-dataset/ml-100k_colab.csv')\n",
    "df"
   ],
   "metadata": {
    "collapsed": false,
    "pycharm": {
     "name": "#%%\n"
    }
   }
  },
  {
   "cell_type": "code",
   "execution_count": 20,
   "outputs": [
    {
     "data": {
      "text/plain": "       movie_id  user_id  user_rating  user_gender user_zip_code  \\\n0           242      196            3            1         55105   \n1           242      305            5            1         94086   \n2           242        6            4            1         98101   \n3           242      234            4            1         94702   \n4           242       63            3            1         75240   \n...         ...      ...          ...          ...           ...   \n99995      1679      863            3            1         60089   \n99996      1678      863            1            1         60089   \n99997      1680      863            2            1         60089   \n99998      1681      896            3            1         91505   \n99999      1682      916            3            1         N2L5N   \n\n       user_occupation  user_age_cohort  \n0                    1                1  \n1                    2                2  \n2                    3                3  \n3                    4                4  \n4                    5                5  \n...                ...              ...  \n99995                6                7  \n99996                6                7  \n99997                6                7  \n99998                1                5  \n99999                9                5  \n\n[100000 rows x 7 columns]",
      "text/html": "<div>\n<style scoped>\n    .dataframe tbody tr th:only-of-type {\n        vertical-align: middle;\n    }\n\n    .dataframe tbody tr th {\n        vertical-align: top;\n    }\n\n    .dataframe thead th {\n        text-align: right;\n    }\n</style>\n<table border=\"1\" class=\"dataframe\">\n  <thead>\n    <tr style=\"text-align: right;\">\n      <th></th>\n      <th>movie_id</th>\n      <th>user_id</th>\n      <th>user_rating</th>\n      <th>user_gender</th>\n      <th>user_zip_code</th>\n      <th>user_occupation</th>\n      <th>user_age_cohort</th>\n    </tr>\n  </thead>\n  <tbody>\n    <tr>\n      <th>0</th>\n      <td>242</td>\n      <td>196</td>\n      <td>3</td>\n      <td>1</td>\n      <td>55105</td>\n      <td>1</td>\n      <td>1</td>\n    </tr>\n    <tr>\n      <th>1</th>\n      <td>242</td>\n      <td>305</td>\n      <td>5</td>\n      <td>1</td>\n      <td>94086</td>\n      <td>2</td>\n      <td>2</td>\n    </tr>\n    <tr>\n      <th>2</th>\n      <td>242</td>\n      <td>6</td>\n      <td>4</td>\n      <td>1</td>\n      <td>98101</td>\n      <td>3</td>\n      <td>3</td>\n    </tr>\n    <tr>\n      <th>3</th>\n      <td>242</td>\n      <td>234</td>\n      <td>4</td>\n      <td>1</td>\n      <td>94702</td>\n      <td>4</td>\n      <td>4</td>\n    </tr>\n    <tr>\n      <th>4</th>\n      <td>242</td>\n      <td>63</td>\n      <td>3</td>\n      <td>1</td>\n      <td>75240</td>\n      <td>5</td>\n      <td>5</td>\n    </tr>\n    <tr>\n      <th>...</th>\n      <td>...</td>\n      <td>...</td>\n      <td>...</td>\n      <td>...</td>\n      <td>...</td>\n      <td>...</td>\n      <td>...</td>\n    </tr>\n    <tr>\n      <th>99995</th>\n      <td>1679</td>\n      <td>863</td>\n      <td>3</td>\n      <td>1</td>\n      <td>60089</td>\n      <td>6</td>\n      <td>7</td>\n    </tr>\n    <tr>\n      <th>99996</th>\n      <td>1678</td>\n      <td>863</td>\n      <td>1</td>\n      <td>1</td>\n      <td>60089</td>\n      <td>6</td>\n      <td>7</td>\n    </tr>\n    <tr>\n      <th>99997</th>\n      <td>1680</td>\n      <td>863</td>\n      <td>2</td>\n      <td>1</td>\n      <td>60089</td>\n      <td>6</td>\n      <td>7</td>\n    </tr>\n    <tr>\n      <th>99998</th>\n      <td>1681</td>\n      <td>896</td>\n      <td>3</td>\n      <td>1</td>\n      <td>91505</td>\n      <td>1</td>\n      <td>5</td>\n    </tr>\n    <tr>\n      <th>99999</th>\n      <td>1682</td>\n      <td>916</td>\n      <td>3</td>\n      <td>1</td>\n      <td>N2L5N</td>\n      <td>9</td>\n      <td>5</td>\n    </tr>\n  </tbody>\n</table>\n<p>100000 rows × 7 columns</p>\n</div>"
     },
     "execution_count": 20,
     "metadata": {},
     "output_type": "execute_result"
    }
   ],
   "source": [
    "df['user_occupation_text'], _ = pd.factorize(df['user_occupation_text'])\n",
    "df['bucketized_user_age'], _ = pd.factorize(df['bucketized_user_age'])\n",
    "\n",
    "df = df.rename(columns={\"user_occupation_text\" : \"user_occupation\", \"bucketized_user_age\" : \"user_age_cohort\"})\n",
    "df['user_occupation'] = df['user_occupation'].apply(lambda x: x+1)\n",
    "df['user_age_cohort'] = df['user_age_cohort'].apply(lambda x: x+1)\n",
    "\n",
    "df"
   ],
   "metadata": {
    "collapsed": false,
    "pycharm": {
     "name": "#%%\n"
    }
   }
  },
  {
   "cell_type": "code",
   "execution_count": 21,
   "outputs": [],
   "source": [
    "df.to_csv('data/TFRS-iterate/ml-100k_colab.csv', index=False)"
   ],
   "metadata": {
    "collapsed": false,
    "pycharm": {
     "name": "#%%\n"
    }
   }
  },
  {
   "cell_type": "code",
   "execution_count": 22,
   "outputs": [
    {
     "data": {
      "text/plain": "7"
     },
     "execution_count": 22,
     "metadata": {},
     "output_type": "execute_result"
    }
   ],
   "source": [
    "df['user_age_cohort'].max()"
   ],
   "metadata": {
    "collapsed": false,
    "pycharm": {
     "name": "#%%\n"
    }
   }
  }
 ],
 "metadata": {
  "kernelspec": {
   "display_name": "Python 3",
   "language": "python",
   "name": "python3"
  },
  "language_info": {
   "codemirror_mode": {
    "name": "ipython",
    "version": 2
   },
   "file_extension": ".py",
   "mimetype": "text/x-python",
   "name": "python",
   "nbconvert_exporter": "python",
   "pygments_lexer": "ipython2",
   "version": "2.7.6"
  }
 },
 "nbformat": 4,
 "nbformat_minor": 0
}